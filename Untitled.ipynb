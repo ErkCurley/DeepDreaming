{
 "cells": [
  {
   "cell_type": "code",
   "execution_count": 15,
   "id": "b5bc6db7-e191-40cf-978a-4c256a92a363",
   "metadata": {},
   "outputs": [
    {
     "ename": "SyntaxError",
     "evalue": "invalid syntax (deepdreamer.py, line 23)",
     "output_type": "error",
     "traceback": [
      "Traceback \u001b[1;36m(most recent call last)\u001b[0m:\n",
      "  File \u001b[0;32m\"C:\\Users\\EricC\\Anaconda3\\envs\\DeepDreamTf14\\lib\\site-packages\\IPython\\core\\interactiveshell.py\"\u001b[0m, line \u001b[0;32m3343\u001b[0m, in \u001b[0;35mrun_code\u001b[0m\n    exec(code_obj, self.user_global_ns, self.user_ns)\n",
      "\u001b[1;36m  File \u001b[1;32m\"<ipython-input-15-8d0cc6328731>\"\u001b[1;36m, line \u001b[1;32m1\u001b[1;36m, in \u001b[1;35m<module>\u001b[1;36m\u001b[0m\n\u001b[1;33m    from deep_dreaming_start.deepdreamer import model, load_image, recursive_optimize\u001b[0m\n",
      "\u001b[1;36m  File \u001b[1;32m\"C:\\Users\\EricC\\Desktop\\DeepDream\\deep_dreaming_start\\deepdreamer.py\"\u001b[1;36m, line \u001b[1;32m23\u001b[0m\n\u001b[1;33m    model = .inception5h.Inception5h()\u001b[0m\n\u001b[1;37m            ^\u001b[0m\n\u001b[1;31mSyntaxError\u001b[0m\u001b[1;31m:\u001b[0m invalid syntax\n"
     ]
    }
   ],
   "source": [
    "from deep_dreaming_start.deepdreamer import model, load_image, recursive_optimize\n",
    "import numpy as np\n",
    "import PIL.Image"
   ]
  },
  {
   "cell_type": "code",
   "execution_count": null,
   "id": "b0a2efa3-1612-402c-a7e2-93122cb1da8f",
   "metadata": {},
   "outputs": [],
   "source": []
  }
 ],
 "metadata": {
  "kernelspec": {
   "display_name": "Python 3",
   "language": "python",
   "name": "python3"
  },
  "language_info": {
   "codemirror_mode": {
    "name": "ipython",
    "version": 3
   },
   "file_extension": ".py",
   "mimetype": "text/x-python",
   "name": "python",
   "nbconvert_exporter": "python",
   "pygments_lexer": "ipython3",
   "version": "3.6.13"
  }
 },
 "nbformat": 4,
 "nbformat_minor": 5
}
